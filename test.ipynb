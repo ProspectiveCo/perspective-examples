{
 "cells": [
  {
   "cell_type": "markdown",
   "metadata": {},
   "source": [
    "<hr>\n",
    "\n",
    "# Wave Generation"
   ]
  },
  {
   "cell_type": "code",
   "execution_count": null,
   "metadata": {},
   "outputs": [],
   "source": [
    "from data_generators.utils import random_waves as rw\n",
    "import numpy as np\n",
    "import pandas as pd\n",
    "import plotly.express as px\n",
    "\n",
    "# rw.seed()\n",
    "\n",
    "# y = rw.half_waves_fixed_freq_varying_amp(num_points=10000, periods=7, amplitude=(3.5, 8.5), phase=5.7, smooth=10, noise=0.1)\n",
    "# y = rw.full_waves_fixed_freq_varying_amp(num_points=10000, periods=7, amplitude=(3.5, 8.5), phase=5.7, noise=0.1)\n",
    "\n",
    "y = rw.sinusoidal_wave(num_points=10000, periods=7, amplitude=(5.5, 7.2), wave_mode='full', varying_mode='fixed', phase=5.7, noise=0.1)\n",
    "# y = rw.sinusoidal_wave(num_points=10000, periods=7, amplitude=(5.5, 7.2), wave_mode='full', varying_mode='fixed')\n",
    "\n",
    "print(f\"num_points: {len(y)}\")\n",
    "# display(y.head())\n",
    "\n",
    "fig = px.line(y=y, title='Random Wave Example')\n",
    "fig.update_layout(\n",
    "    xaxis_title='Index',\n",
    "    yaxis_title='Amplitude',\n",
    "    template='plotly_dark'\n",
    ")\n",
    "fig.show()"
   ]
  },
  {
   "cell_type": "code",
   "execution_count": null,
   "metadata": {},
   "outputs": [],
   "source": [
    "from data_generators.utils import random_waves as rw\n",
    "\n",
    "print(rw.equals_parts(1000, 3))\n",
    "print(rw.random_parts(1000, 5))"
   ]
  },
  {
   "cell_type": "markdown",
   "metadata": {},
   "source": [
    "<hr>\n",
    "\n",
    "# Test Smart Grid with InfluxDB Writer\n"
   ]
  },
  {
   "cell_type": "code",
   "execution_count": null,
   "metadata": {},
   "outputs": [],
   "source": [
    "from datetime import datetime, timedelta\n",
    "from generators.smart_grid.new_york_smart_grid import NewYorkSmartGridStreamGenerator\n",
    "from writers.influxdb_writer import InfluxdbWriter\n",
    "from writers.file_writer import FileWriter\n",
    "\n",
    "START_TIME = datetime.now() - timedelta(minutes=5)\n",
    "END_TIME = datetime.now() + timedelta(minutes=15)\n",
    "\n",
    "# Define the data generator\n",
    "generator = NewYorkSmartGridStreamGenerator(\n",
    "    interval=1.0,  # 1 second interval\n",
    "    nrows=1000,  # number of rows to generate in each batch\n",
    "    num_stations=32,  # number of stations\n",
    "    start_time=START_TIME,  # start time\n",
    "    end_time=END_TIME,  # end time (15 minutes from now)\n",
    "    loopback=True,  # do not loop back\n",
    ")\n",
    "\n",
    "# Define the InfluxDB writer\n",
    "influx_writer = InfluxdbWriter(\n",
    "    url='http://localhost:8086',\n",
    "    token='sudo-banana-404-not-found',\n",
    "    org='perspective',\n",
    "    bucket='smart_grid',\n",
    "    measurement='new_york_smart_grid',\n",
    "    timestamp_col='timestamp',\n",
    "    tag_cols=['station_name', 'latitude', 'longitude'],\n",
    "    field_cols=['energy_consumption', 'current', 'voltage']\n",
    "    )\n",
    "\n",
    "# Define a CSV writer\n",
    "csv_writer = FileWriter(\n",
    "    file_path='test.csv',\n",
    "    mode='w',\n",
    "    )\n",
    "\n",
    "loop_cycles = (END_TIME - START_TIME).seconds\n",
    "for _ in range(loop_cycles):\n",
    "    df = generator.get_data()\n",
    "    influx_writer.write(df)\n",
    "    csv_writer.write(df)\n",
    "\n",
    "influx_writer.close()\n",
    "csv_writer.close()"
   ]
  }
 ],
 "metadata": {
  "kernelspec": {
   "display_name": "venv",
   "language": "python",
   "name": "python3"
  },
  "language_info": {
   "codemirror_mode": {
    "name": "ipython",
    "version": 3
   },
   "file_extension": ".py",
   "mimetype": "text/x-python",
   "name": "python",
   "nbconvert_exporter": "python",
   "pygments_lexer": "ipython3",
   "version": "3.13.0"
  }
 },
 "nbformat": 4,
 "nbformat_minor": 2
}
