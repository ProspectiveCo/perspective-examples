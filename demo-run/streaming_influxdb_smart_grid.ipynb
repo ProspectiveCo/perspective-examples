{
 "cells": [
  {
   "cell_type": "markdown",
   "metadata": {},
   "source": [
    "# Demo: Visualize Streaming Data with InfluxDB & Prospective"
   ]
  },
  {
   "cell_type": "markdown",
   "metadata": {
    "vscode": {
     "languageId": "plaintext"
    }
   },
   "source": [
    "## Setup"
   ]
  },
  {
   "cell_type": "code",
   "execution_count": null,
   "metadata": {},
   "outputs": [],
   "source": [
    "# add parent directory to python search path\n",
    "import sys\n",
    "sys.path.append('..')       # must run this to import package from parent directory\n",
    "\n",
    "from time import sleep\n",
    "from datetime import datetime, timedelta\n",
    "from generators.smart_grid.new_york_smart_grid import NewYorkSmartGridStreamGenerator\n",
    "from writers.influxdb_writer import InfluxdbWriter\n",
    "from writers.file_writer import FileWriter\n",
    "from utils.logger import logger\n",
    "\n",
    "# ============================================\n",
    "# DEMO CONFIGURATION PARAMETERS\n",
    "# change these parameters to customize the demo\n",
    "# ============================================\n",
    "START_TIME = datetime.now() - timedelta(minutes=5)              # start 5 minutes ago\n",
    "END_TIME = datetime.now() + timedelta(minutes=2)               # end 30 minutes from now\n",
    "INFLUXDB_URL = 'http://localhost:8086'\n",
    "INFLUXDB_TOKEN = 'sudo-banana-404'\n",
    "INFLUXDB_ORG = 'perspective'\n",
    "INFLUXDB_BUCKET = 'smart_grid'\n",
    "\n",
    "\n",
    "def run():\n",
    "    # log demo start message\n",
    "    logger.info('-' * 50)\n",
    "    logger.info('Demo: Starting New York Smart Grid demo...')\n",
    "\n",
    "    # --------------------------------------------\n",
    "    # DATA GENERATORS & WRITERS\n",
    "\n",
    "    smart_grid = NewYorkSmartGridStreamGenerator(\n",
    "        interval=0.250,         # refresh every 0.25 seconds\n",
    "        nrows=1000,             # number of rows to generate in each batch\n",
    "        num_stations=32,        # number of stations\n",
    "        start_time=START_TIME,  # start time\n",
    "        end_time=END_TIME,      # end time\n",
    "        loopback=False,         # do not loop back. end the demo after end_time is reached\n",
    "        )\n",
    "\n",
    "    # Define the InfluxDB writer\n",
    "    influx_writer = InfluxdbWriter(\n",
    "        url=INFLUXDB_URL,\n",
    "        token=INFLUXDB_TOKEN,\n",
    "        org=INFLUXDB_ORG,\n",
    "        bucket=INFLUXDB_BUCKET,\n",
    "        measurement='new_york_smart_grid',\n",
    "        timestamp_col='timestamp',\n",
    "        tag_cols=['station_name', 'latitude', 'longitude'],\n",
    "        field_cols=['energy_consumption', 'current', 'voltage']\n",
    "        )\n",
    "    \n",
    "    # setup complete\n",
    "    logger.info('Demo: Setup complete. Starting data generation...')\n",
    "\n",
    "    # --------------------------------------------\n",
    "    # MAIN STREAMING LOOP\n",
    "    smart_grid.add_subscriber(influx_writer.write)\n",
    "    smart_grid.start()\n",
    "    # wait for the demo loop to finish or until the user interrupts\n",
    "    try:\n",
    "        while smart_grid.is_running():\n",
    "            sleep(1)\n",
    "    except KeyboardInterrupt:\n",
    "        logger.info('Demo: Execution interrupted by the user. Ending demo...')\n",
    "    finally:\n",
    "        # Ensure the InfluxDB writer is closed properly\n",
    "        influx_writer.close()\n",
    "        del influx_writer\n",
    "        del smart_grid\n",
    "        logger.info('Demo: Ended New York Smart Grid demo.')\n",
    "    \n",
    "\n",
    "\n",
    "run()"
   ]
  }
 ],
 "metadata": {
  "kernelspec": {
   "display_name": "venv",
   "language": "python",
   "name": "python3"
  },
  "language_info": {
   "codemirror_mode": {
    "name": "ipython",
    "version": 3
   },
   "file_extension": ".py",
   "mimetype": "text/x-python",
   "name": "python",
   "nbconvert_exporter": "python",
   "pygments_lexer": "ipython3",
   "version": "3.12.7"
  }
 },
 "nbformat": 4,
 "nbformat_minor": 2
}
