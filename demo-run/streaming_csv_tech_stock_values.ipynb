{
 "cells": [
  {
   "cell_type": "markdown",
   "metadata": {},
   "source": [
    "# Demo: Historical Tech Stocks Values to CSV"
   ]
  },
  {
   "cell_type": "code",
   "execution_count": null,
   "metadata": {},
   "outputs": [
    {
     "name": "stdout",
     "output_type": "stream",
     "text": [
      "Loading configuration from: /Users/clarus/work/perspective/perspective-examples/demo-run/../utils/config.yaml\n",
      "Loading configuration from: /Users/clarus/work/perspective/perspective-examples/config.yaml\n",
      "2024-12-12 15:54:16 - INFO - logger.py:114 - --------------------------------------------------------------------------------\n",
      "2024-12-12 15:54:16 - INFO - logger.py:115 - App: started\n",
      "2024-12-12 15:54:16 - INFO - 1150685912.py:27 - Generating stock values for chip manufacturers: INTC, NVDA, AMD, TXN, QCOM, AVGO\n",
      "2024-12-12 15:54:16 - INFO - stock_fetcher.py:126 - Fetching Alpha Vantage Stock Values: ticker=INTC start_date=2019-12-12 00:00:00 interval=AlphaVantageTickerInterval.DAILY\n",
      "2024-12-12 15:54:16 - INFO - stock_fetcher.py:127 - This may take a few seconds...\n",
      "2024-12-12 15:54:16 - INFO - stock_fetcher.py:128 - api_key=YR0FBKIOA5PIWEYO\n",
      "2024-12-12 15:54:17 - INFO - stock_fetcher.py:126 - Fetching Alpha Vantage Stock Values: ticker=NVDA start_date=2019-12-12 00:00:00 interval=AlphaVantageTickerInterval.DAILY\n",
      "2024-12-12 15:54:17 - INFO - stock_fetcher.py:127 - This may take a few seconds...\n",
      "2024-12-12 15:54:17 - INFO - stock_fetcher.py:128 - api_key=YR0FBKIOA5PIWEYO\n",
      "2024-12-12 15:54:18 - INFO - stock_fetcher.py:126 - Fetching Alpha Vantage Stock Values: ticker=AMD start_date=2019-12-12 00:00:00 interval=AlphaVantageTickerInterval.DAILY\n",
      "2024-12-12 15:54:18 - INFO - stock_fetcher.py:127 - This may take a few seconds...\n",
      "2024-12-12 15:54:18 - INFO - stock_fetcher.py:128 - api_key=YR0FBKIOA5PIWEYO\n",
      "2024-12-12 15:54:18 - INFO - stock_fetcher.py:126 - Fetching Alpha Vantage Stock Values: ticker=TXN start_date=2019-12-12 00:00:00 interval=AlphaVantageTickerInterval.DAILY\n",
      "2024-12-12 15:54:18 - INFO - stock_fetcher.py:127 - This may take a few seconds...\n",
      "2024-12-12 15:54:18 - INFO - stock_fetcher.py:128 - api_key=YR0FBKIOA5PIWEYO\n",
      "2024-12-12 15:54:19 - INFO - stock_fetcher.py:126 - Fetching Alpha Vantage Stock Values: ticker=QCOM start_date=2019-12-12 00:00:00 interval=AlphaVantageTickerInterval.DAILY\n",
      "2024-12-12 15:54:19 - INFO - stock_fetcher.py:127 - This may take a few seconds...\n",
      "2024-12-12 15:54:19 - INFO - stock_fetcher.py:128 - api_key=YR0FBKIOA5PIWEYO\n",
      "2024-12-12 15:54:20 - INFO - stock_fetcher.py:126 - Fetching Alpha Vantage Stock Values: ticker=AVGO start_date=2019-12-12 00:00:00 interval=AlphaVantageTickerInterval.DAILY\n",
      "2024-12-12 15:54:20 - INFO - stock_fetcher.py:127 - This may take a few seconds...\n",
      "2024-12-12 15:54:20 - INFO - stock_fetcher.py:128 - api_key=YR0FBKIOA5PIWEYO\n"
     ]
    },
    {
     "ename": "TypeError",
     "evalue": "write_feather() got an unexpected keyword argument 'index'",
     "output_type": "error",
     "traceback": [
      "\u001b[0;31m---------------------------------------------------------------------------\u001b[0m",
      "\u001b[0;31mTypeError\u001b[0m                                 Traceback (most recent call last)",
      "Cell \u001b[0;32mIn[1], line 41\u001b[0m\n\u001b[1;32m     39\u001b[0m df \u001b[38;5;241m=\u001b[39m stock_values_generator\u001b[38;5;241m.\u001b[39mget_data()\n\u001b[1;32m     40\u001b[0m \u001b[38;5;28;01mfor\u001b[39;00m writer \u001b[38;5;129;01min\u001b[39;00m writers:\n\u001b[0;32m---> 41\u001b[0m     \u001b[43mwriter\u001b[49m\u001b[38;5;241;43m.\u001b[39;49m\u001b[43mwrite\u001b[49m\u001b[43m(\u001b[49m\u001b[43mdf\u001b[49m\u001b[43m)\u001b[49m\n\u001b[1;32m     42\u001b[0m     writer\u001b[38;5;241m.\u001b[39mclose()\n\u001b[1;32m     44\u001b[0m logger\u001b[38;5;241m.\u001b[39minfo(\u001b[38;5;124mf\u001b[39m\u001b[38;5;124m\"\u001b[39m\u001b[38;5;124mGenerated stock values for chip manufacturers: \u001b[39m\u001b[38;5;132;01m{\u001b[39;00m\u001b[38;5;124m'\u001b[39m\u001b[38;5;124m, \u001b[39m\u001b[38;5;124m'\u001b[39m\u001b[38;5;241m.\u001b[39mjoin(tickers)\u001b[38;5;132;01m}\u001b[39;00m\u001b[38;5;124m\"\u001b[39m)\n",
      "File \u001b[0;32m~/work/perspective/perspective-examples/demo-run/../writers/file_writer.py:49\u001b[0m, in \u001b[0;36mFileWriter.write\u001b[0;34m(self, data)\u001b[0m\n\u001b[1;32m     47\u001b[0m     data\u001b[38;5;241m.\u001b[39mto_parquet(\u001b[38;5;28mself\u001b[39m\u001b[38;5;241m.\u001b[39mfile_path, index\u001b[38;5;241m=\u001b[39m\u001b[38;5;28;01mFalse\u001b[39;00m, mode\u001b[38;5;241m=\u001b[39m\u001b[38;5;124m'\u001b[39m\u001b[38;5;124ma\u001b[39m\u001b[38;5;124m'\u001b[39m)\n\u001b[1;32m     48\u001b[0m \u001b[38;5;28;01melif\u001b[39;00m \u001b[38;5;28mself\u001b[39m\u001b[38;5;241m.\u001b[39mtype \u001b[38;5;241m==\u001b[39m \u001b[38;5;124m\"\u001b[39m\u001b[38;5;124marrow\u001b[39m\u001b[38;5;124m\"\u001b[39m:\n\u001b[0;32m---> 49\u001b[0m     \u001b[43mdata\u001b[49m\u001b[38;5;241;43m.\u001b[39;49m\u001b[43mto_feather\u001b[49m\u001b[43m(\u001b[49m\u001b[38;5;28;43mself\u001b[39;49m\u001b[38;5;241;43m.\u001b[39;49m\u001b[43mfile_path\u001b[49m\u001b[43m,\u001b[49m\u001b[43m \u001b[49m\u001b[43mindex\u001b[49m\u001b[38;5;241;43m=\u001b[39;49m\u001b[38;5;28;43;01mFalse\u001b[39;49;00m\u001b[43m,\u001b[49m\u001b[43m \u001b[49m\u001b[43mmode\u001b[49m\u001b[38;5;241;43m=\u001b[39;49m\u001b[38;5;124;43m'\u001b[39;49m\u001b[38;5;124;43ma\u001b[39;49m\u001b[38;5;124;43m'\u001b[39;49m\u001b[43m)\u001b[49m\n\u001b[1;32m     50\u001b[0m \u001b[38;5;28;01melif\u001b[39;00m \u001b[38;5;28mself\u001b[39m\u001b[38;5;241m.\u001b[39mtype \u001b[38;5;241m==\u001b[39m \u001b[38;5;124m\"\u001b[39m\u001b[38;5;124mndjson\u001b[39m\u001b[38;5;124m\"\u001b[39m:\n\u001b[1;32m     51\u001b[0m     data\u001b[38;5;241m.\u001b[39mto_json(\u001b[38;5;28mself\u001b[39m\u001b[38;5;241m.\u001b[39mfile_path, orient\u001b[38;5;241m=\u001b[39m\u001b[38;5;124m'\u001b[39m\u001b[38;5;124mrecords\u001b[39m\u001b[38;5;124m'\u001b[39m, lines\u001b[38;5;241m=\u001b[39m\u001b[38;5;28;01mTrue\u001b[39;00m, date_format\u001b[38;5;241m=\u001b[39m\u001b[38;5;28mself\u001b[39m\u001b[38;5;241m.\u001b[39mdate_format, mode\u001b[38;5;241m=\u001b[39m\u001b[38;5;124m'\u001b[39m\u001b[38;5;124ma\u001b[39m\u001b[38;5;124m'\u001b[39m)\n",
      "File \u001b[0;32m~/work/perspective/perspective-examples/venv/lib/python3.13/site-packages/pandas/core/frame.py:2938\u001b[0m, in \u001b[0;36mDataFrame.to_feather\u001b[0;34m(self, path, **kwargs)\u001b[0m\n\u001b[1;32m   2910\u001b[0m \u001b[38;5;250m\u001b[39m\u001b[38;5;124;03m\"\"\"\u001b[39;00m\n\u001b[1;32m   2911\u001b[0m \u001b[38;5;124;03mWrite a DataFrame to the binary Feather format.\u001b[39;00m\n\u001b[1;32m   2912\u001b[0m \n\u001b[0;32m   (...)\u001b[0m\n\u001b[1;32m   2934\u001b[0m \u001b[38;5;124;03m>>> df.to_feather(\"file.feather\")  # doctest: +SKIP\u001b[39;00m\n\u001b[1;32m   2935\u001b[0m \u001b[38;5;124;03m\"\"\"\u001b[39;00m\n\u001b[1;32m   2936\u001b[0m \u001b[38;5;28;01mfrom\u001b[39;00m \u001b[38;5;21;01mpandas\u001b[39;00m\u001b[38;5;21;01m.\u001b[39;00m\u001b[38;5;21;01mio\u001b[39;00m\u001b[38;5;21;01m.\u001b[39;00m\u001b[38;5;21;01mfeather_format\u001b[39;00m \u001b[38;5;28;01mimport\u001b[39;00m to_feather\n\u001b[0;32m-> 2938\u001b[0m \u001b[43mto_feather\u001b[49m\u001b[43m(\u001b[49m\u001b[38;5;28;43mself\u001b[39;49m\u001b[43m,\u001b[49m\u001b[43m \u001b[49m\u001b[43mpath\u001b[49m\u001b[43m,\u001b[49m\u001b[43m \u001b[49m\u001b[38;5;241;43m*\u001b[39;49m\u001b[38;5;241;43m*\u001b[39;49m\u001b[43mkwargs\u001b[49m\u001b[43m)\u001b[49m\n",
      "File \u001b[0;32m~/work/perspective/perspective-examples/venv/lib/python3.13/site-packages/pandas/io/feather_format.py:66\u001b[0m, in \u001b[0;36mto_feather\u001b[0;34m(df, path, storage_options, **kwargs)\u001b[0m\n\u001b[1;32m     61\u001b[0m     \u001b[38;5;28;01mraise\u001b[39;00m \u001b[38;5;167;01mValueError\u001b[39;00m(\u001b[38;5;124m\"\u001b[39m\u001b[38;5;124mfeather only support IO with DataFrames\u001b[39m\u001b[38;5;124m\"\u001b[39m)\n\u001b[1;32m     63\u001b[0m \u001b[38;5;28;01mwith\u001b[39;00m get_handle(\n\u001b[1;32m     64\u001b[0m     path, \u001b[38;5;124m\"\u001b[39m\u001b[38;5;124mwb\u001b[39m\u001b[38;5;124m\"\u001b[39m, storage_options\u001b[38;5;241m=\u001b[39mstorage_options, is_text\u001b[38;5;241m=\u001b[39m\u001b[38;5;28;01mFalse\u001b[39;00m\n\u001b[1;32m     65\u001b[0m ) \u001b[38;5;28;01mas\u001b[39;00m handles:\n\u001b[0;32m---> 66\u001b[0m     \u001b[43mfeather\u001b[49m\u001b[38;5;241;43m.\u001b[39;49m\u001b[43mwrite_feather\u001b[49m\u001b[43m(\u001b[49m\u001b[43mdf\u001b[49m\u001b[43m,\u001b[49m\u001b[43m \u001b[49m\u001b[43mhandles\u001b[49m\u001b[38;5;241;43m.\u001b[39;49m\u001b[43mhandle\u001b[49m\u001b[43m,\u001b[49m\u001b[43m \u001b[49m\u001b[38;5;241;43m*\u001b[39;49m\u001b[38;5;241;43m*\u001b[39;49m\u001b[43mkwargs\u001b[49m\u001b[43m)\u001b[49m\n",
      "\u001b[0;31mTypeError\u001b[0m: write_feather() got an unexpected keyword argument 'index'"
     ]
    }
   ],
   "source": [
    "# add parent directory to python search path\n",
    "import sys\n",
    "sys.path.append('..')       # must run this to import package from parent directory\n",
    "\n",
    "from time import sleep\n",
    "from datetime import datetime, timedelta\n",
    "from generators.stocks.stock_values import HistoricalStockValuesBatchGenerator\n",
    "from writers.file_writer import FileWriter\n",
    "from utils.logger import logger\n",
    "from utils.config_loader import config\n",
    "\n",
    "\n",
    "# ==============================\n",
    "# ALPHA VANATAGE API KEY\n",
    "# You can get a free API key from https://www.alphavantage.co/support/#api-key\n",
    "# \n",
    "# Set API key in either the following ways:\n",
    "# 1. Set it in the config file (/utils/config.yaml)\n",
    "# 2. Set it here\n",
    "# 3. Set it as an environment variable: export ALPHA_VANTAGE_API_KEY=<your_api_key>\n",
    "API_KEY = None\n",
    "\n",
    "# ==============================\n",
    "# CHIP MANUFACTURER STOCK VALUES\n",
    "# ==============================\n",
    "tickers = config['stocks_generator']['chip_tickers']\n",
    "logger.info(f\"Generating stock values for chip manufacturers: {', '.join(tickers)}\")\n",
    "stock_values_generator = HistoricalStockValuesBatchGenerator(\n",
    "    tickers=tickers,\n",
    "    time_span='-10y',                        # last 5 years\n",
    "    ticker_interval='DAILY',    # daily stock values\n",
    "    )\n",
    "# setting up data writer\n",
    "writers = [\n",
    "    FileWriter(file_path='chip_manufacturers_stocks_past_5yrs.csv', type='csv'),                # csv writer\n",
    "    # FileWriter(file_path='chip_manufacturers_stocks_past_5yrs.arrow', type='arrow'),            # arrow writer\n",
    "]\n",
    "# generate stock values\n",
    "df = stock_values_generator.get_data()\n",
    "for writer in writers:\n",
    "    writer.write(df)\n",
    "    writer.close()\n",
    "\n",
    "logger.info(f\"Generated stock values for chip manufacturers: {', '.join(tickers)}\")\n",
    "\n",
    "\n",
    "\n"
   ]
  }
 ],
 "metadata": {
  "kernelspec": {
   "display_name": "venv",
   "language": "python",
   "name": "python3"
  },
  "language_info": {
   "codemirror_mode": {
    "name": "ipython",
    "version": 3
   },
   "file_extension": ".py",
   "mimetype": "text/x-python",
   "name": "python",
   "nbconvert_exporter": "python",
   "pygments_lexer": "ipython3",
   "version": "3.13.0"
  }
 },
 "nbformat": 4,
 "nbformat_minor": 2
}
