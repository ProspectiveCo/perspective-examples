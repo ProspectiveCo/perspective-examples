{
 "cells": [
  {
   "cell_type": "markdown",
   "metadata": {},
   "source": [
    "# Testing tdengine (taos) integration\n",
    "\n",
    "Testing taos python lib: toaspy\n",
    "\n",
    "```bash\n",
    "pip install taospy\n",
    "```\n",
    "\n",
    "- [starting tdengine docker container](https://docs.tdengine.com/get-started/deploy-in-docker/)\n",
    "- [tdengine taospy python docs](https://docs.tdengine.com/tdengine-reference/client-libraries/python)"
   ]
  },
  {
   "cell_type": "code",
   "execution_count": null,
   "metadata": {},
   "outputs": [],
   "source": [
    "import taos\n",
    "\n",
    "connection = taos.connect(\n",
    "    host='localhost',\n",
    "    port=6030,\n",
    "    user='root',\n",
    "    password='taosdata',\n",
    "    database='test'\n",
    ")\n",
    "\n"
   ]
  },
  {
   "cell_type": "code",
   "execution_count": null,
   "metadata": {},
   "outputs": [],
   "source": [
    "import taosws\n",
    "\n",
    "def create_connection():\n",
    "    conn = None\n",
    "    host = \"localhost\"\n",
    "    port = 6041\n",
    "    try:\n",
    "        conn = taosws.connect(\n",
    "            user=\"root\",\n",
    "            password=\"taosdata\",\n",
    "            host=host,\n",
    "            port=port,\n",
    "        )\n",
    "        print(f\"Connected to {host}:{port} successfully.\");\n",
    "    except Exception as err:\n",
    "        print(f\"Failed to connect to {host}:{port} , ErrMessage:{err}\")\n",
    "        raise err\n",
    "    return conn\n",
    "\n",
    "\n",
    "def read_data(conn):\n",
    "    sql = \"SELECT location, * FROM test.meters limit 100\"\n",
    "    result = conn.query(sql)\n",
    "    for row in result:\n",
    "        print(f\"{row}\")\n",
    "\n",
    "\n",
    "conn = create_connection()\n",
    "read_data(conn)\n"
   ]
  }
 ],
 "metadata": {
  "kernelspec": {
   "display_name": "venv",
   "language": "python",
   "name": "python3"
  },
  "language_info": {
   "codemirror_mode": {
    "name": "ipython",
    "version": 3
   },
   "file_extension": ".py",
   "mimetype": "text/x-python",
   "name": "python",
   "nbconvert_exporter": "python",
   "pygments_lexer": "ipython3",
   "version": "3.12.7"
  }
 },
 "nbformat": 4,
 "nbformat_minor": 2
}
